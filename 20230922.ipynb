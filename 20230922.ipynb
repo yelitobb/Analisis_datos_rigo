{
 "cells": [
  {
   "cell_type": "code",
   "execution_count": 106,
   "id": "67ba1b57",
   "metadata": {},
   "outputs": [],
   "source": [
    "import numpy as np\n",
    "import matplotlib.pyplot as plt\n",
    "import pandas as pd\n",
    "import peakutils\n",
    "from scipy import sparse\n",
    "from scipy.sparse.linalg import spsolve\n",
    "from scipy.signal import find_peaks"
   ]
  },
  {
   "cell_type": "code",
   "execution_count": 121,
   "id": "b8d5fee2",
   "metadata": {},
   "outputs": [],
   "source": [
    "#Este código/rutina realiza el baseline de un espectro \n",
    "\n",
    "def baseline_als(y, lam, p, niter=10):\n",
    "  L = len(y)\n",
    "  D = sparse.csc_matrix(np.diff(np.eye(L), 2))\n",
    "  w = np.ones(L)\n",
    "  for i in range(niter):\n",
    "    W = sparse.spdiags(w, 0, L, L)\n",
    "    Z = W + lam * D.dot(D.transpose())\n",
    "    z = spsolve(Z, w*y)\n",
    "    w = p * (y > z) + (1-p) * (y < z)\n",
    "  return z\n",
    "\n",
    "#Cargas el archivo, calcula línea base, a la original le quita la base, define hasta un umbral para los picos en la signal\n",
    "#regresa además la intensidad máx en el pico\n",
    "def GetSpectramax(filename):\n",
    "    spectra = pd.read_csv( filename, sep='\\t', skiprows=13, names=['Wavelength', 'Intensity'])\n",
    "    base = baseline_als(spectra['Intensity'], 1e4, 0.001, 10)\n",
    "    signal= spectra['Intensity']-base\n",
    "    peaks, _ = find_peaks(signal, height=0.5)\n",
    "    return max(signal[peaks])\n",
    "\n",
    "#glob para leer el contenido del nombre de un directorio\n",
    "import glob\n",
    "\n",
    "\n"
   ]
  },
  {
   "cell_type": "code",
   "execution_count": 122,
   "id": "5704273c",
   "metadata": {},
   "outputs": [],
   "source": [
    "#Filelist \n",
    "srcDir=\"'OD0.5IT1000AV3_33\"\n",
    "filelist=glob.glob('OD0.5IT1000AV3_33/*.txt')\n",
    "index=len(srcDir)\n",
    "filelist[0][index:(index+3)]\n",
    "\n",
    "\n",
    "#queremos una lista vacia\n",
    "empty_list=[]\n",
    "for item in filelist:\n",
    "    if item[index:(index+3)] not in empty_list:\n",
    "        empty_list.append(item[index:(index+3)])\n"
   ]
  },
  {
   "cell_type": "code",
   "execution_count": 123,
   "id": "035f3344",
   "metadata": {},
   "outputs": [],
   "source": [
    "#construye el filtro para nombres de los archivos a partir del prefixo de potencia\n",
    "group=glob.glob(filelist[0][0:index]+empty_list[0]+'*.txt')\n",
    "\n",
    "Maxima=[]\n",
    "\n",
    "potencia=[]\n",
    "\n",
    "for prefix in empty_list:\n",
    "    group=glob.glob(filelist[0][0:index]+prefix+'*.txt')\n",
    "    \n",
    "    Max_group=[]\n",
    "    for item in group:\n",
    "        Max_group.append(GetSpectramax(item))\n",
    "        \n",
    "    potencia.append(int (prefix))\n",
    "    \n",
    "    \n",
    "    Maxima.append(max(Max_group))\n",
    "    \n",
    "\n"
   ]
  },
  {
   "cell_type": "code",
   "execution_count": 124,
   "id": "a12b435a",
   "metadata": {},
   "outputs": [
    {
     "data": {
      "text/plain": [
       "(120.0, 230.0)"
      ]
     },
     "execution_count": 124,
     "metadata": {},
     "output_type": "execute_result"
    },
    {
     "data": {
      "image/png": "[encoded data removed]",
      "text/plain": [
       "<Figure size 432x288 with 1 Axes>"
      ]
     },
     "metadata": {
      "needs_background": "light"
     },
     "output_type": "display_data"
    }
   ],
   "source": [
    "plt.plot(potencia, Maxima, \"o\")\n",
    "plt.xlim(120,230)"
   ]
  },
  {
   "cell_type": "code",
   "execution_count": null,
   "id": "78a4bf43",
   "metadata": {},
   "outputs": [],
   "source": []
  }
 ],
 "metadata": {
  "kernelspec": {
   "display_name": "Python 3 (ipykernel)",
   "language": "python",
   "name": "python3"
  },
  "language_info": {
   "codemirror_mode": {
    "name": "ipython",
    "version": 3
   },
   "file_extension": ".py",
   "mimetype": "text/x-python",
   "name": "python",
   "nbconvert_exporter": "python",
   "pygments_lexer": "ipython3",
   "version": "3.9.12"
  }
 },
 "nbformat": 4,
 "nbformat_minor": 5
}
