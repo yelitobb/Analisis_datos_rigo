{
 "cells": [
  {
   "cell_type": "code",
   "execution_count": 1,
   "id": "4fa7341e",
   "metadata": {},
   "outputs": [],
   "source": [
    "import numpy as np\n",
    "import matplotlib.pyplot as plt\n",
    "import pandas as pd\n",
    "from scipy.signal import find_peaks"
   ]
  },
  {
   "cell_type": "code",
   "execution_count": 2,
   "id": "0aa348f0",
   "metadata": {},
   "outputs": [],
   "source": [
    "spectra = pd.read_csv('OD0.5IT1000AV3_33/170_Subt10_001.txt', sep='\\t', skiprows=13, names=['Wavelength', 'Intensity'])\n"
   ]
  },
  {
   "cell_type": "code",
   "execution_count": 3,
   "id": "de23b5fd",
   "metadata": {},
   "outputs": [
    {
     "data": {
      "text/html": [
       "<div>\n",
       "<style scoped>\n",
       "    .dataframe tbody tr th:only-of-type {\n",
       "        vertical-align: middle;\n",
       "    }\n",
       "\n",
       "    .dataframe tbody tr th {\n",
       "        vertical-align: top;\n",
       "    }\n",
       "\n",
       "    .dataframe thead th {\n",
       "        text-align: right;\n",
       "    }\n",
       "</style>\n",
       "<table border=\"1\" class=\"dataframe\">\n",
       "  <thead>\n",
       "    <tr style=\"text-align: right;\">\n",
       "      <th></th>\n",
       "      <th>Wavelength</th>\n",
       "      <th>Intensity</th>\n",
       "    </tr>\n",
       "  </thead>\n",
       "  <tbody>\n",
       "    <tr>\n",
       "      <th>0</th>\n",
       "      <td>397.569</td>\n",
       "      <td>-5.85</td>\n",
       "    </tr>\n",
       "    <tr>\n",
       "      <th>1</th>\n",
       "      <td>397.701</td>\n",
       "      <td>-5.85</td>\n",
       "    </tr>\n",
       "    <tr>\n",
       "      <th>2</th>\n",
       "      <td>397.833</td>\n",
       "      <td>-5.85</td>\n",
       "    </tr>\n",
       "    <tr>\n",
       "      <th>3</th>\n",
       "      <td>397.966</td>\n",
       "      <td>-2.85</td>\n",
       "    </tr>\n",
       "    <tr>\n",
       "      <th>4</th>\n",
       "      <td>398.098</td>\n",
       "      <td>-11.51</td>\n",
       "    </tr>\n",
       "    <tr>\n",
       "      <th>...</th>\n",
       "      <td>...</td>\n",
       "      <td>...</td>\n",
       "    </tr>\n",
       "    <tr>\n",
       "      <th>3643</th>\n",
       "      <td>848.895</td>\n",
       "      <td>-9.18</td>\n",
       "    </tr>\n",
       "    <tr>\n",
       "      <th>3644</th>\n",
       "      <td>849.009</td>\n",
       "      <td>-9.85</td>\n",
       "    </tr>\n",
       "    <tr>\n",
       "      <th>3645</th>\n",
       "      <td>849.123</td>\n",
       "      <td>1.15</td>\n",
       "    </tr>\n",
       "    <tr>\n",
       "      <th>3646</th>\n",
       "      <td>849.237</td>\n",
       "      <td>0.15</td>\n",
       "    </tr>\n",
       "    <tr>\n",
       "      <th>3647</th>\n",
       "      <td>849.351</td>\n",
       "      <td>-5.85</td>\n",
       "    </tr>\n",
       "  </tbody>\n",
       "</table>\n",
       "<p>3648 rows × 2 columns</p>\n",
       "</div>"
      ],
      "text/plain": [
       "      Wavelength  Intensity\n",
       "0        397.569      -5.85\n",
       "1        397.701      -5.85\n",
       "2        397.833      -5.85\n",
       "3        397.966      -2.85\n",
       "4        398.098     -11.51\n",
       "...          ...        ...\n",
       "3643     848.895      -9.18\n",
       "3644     849.009      -9.85\n",
       "3645     849.123       1.15\n",
       "3646     849.237       0.15\n",
       "3647     849.351      -5.85\n",
       "\n",
       "[3648 rows x 2 columns]"
      ]
     },
     "execution_count": 3,
     "metadata": {},
     "output_type": "execute_result"
    }
   ],
   "source": [
    "spectra"
   ]
  },
  {
   "cell_type": "code",
   "execution_count": 4,
   "id": "5ee97724",
   "metadata": {},
   "outputs": [
    {
     "data": {
      "text/plain": [
       "(397.569, 849.351)"
      ]
     },
     "execution_count": 4,
     "metadata": {},
     "output_type": "execute_result"
    }
   ],
   "source": [
    "spectra['Wavelength'].min(),spectra['Wavelength'].max()"
   ]
  },
  {
   "cell_type": "code",
   "execution_count": 5,
   "id": "cf2db0d6",
   "metadata": {},
   "outputs": [
    {
     "data": {
      "image/png": "[encoded data removed]",
      "text/plain": [
       "<Figure size 432x288 with 1 Axes>"
      ]
     },
     "metadata": {
      "needs_background": "light"
     },
     "output_type": "display_data"
    }
   ],
   "source": [
    "plt.plot(spectra['Wavelength'], spectra['Intensity'])\n",
    "plt.xlabel('Wavelength')\n",
    "plt.ylabel('Intensity')\n",
    "plt.title('Resonance')\n",
    "plt.xlim(550,650)\n",
    "plt.show()"
   ]
  },
  {
   "cell_type": "code",
   "execution_count": 6,
   "id": "9c5329fd",
   "metadata": {},
   "outputs": [
    {
     "data": {
      "text/html": [
       "<div>\n",
       "<style scoped>\n",
       "    .dataframe tbody tr th:only-of-type {\n",
       "        vertical-align: middle;\n",
       "    }\n",
       "\n",
       "    .dataframe tbody tr th {\n",
       "        vertical-align: top;\n",
       "    }\n",
       "\n",
       "    .dataframe thead th {\n",
       "        text-align: right;\n",
       "    }\n",
       "</style>\n",
       "<table border=\"1\" class=\"dataframe\">\n",
       "  <thead>\n",
       "    <tr style=\"text-align: right;\">\n",
       "      <th></th>\n",
       "      <th>Wavelength</th>\n",
       "      <th>Intensity</th>\n",
       "    </tr>\n",
       "  </thead>\n",
       "  <tbody>\n",
       "    <tr>\n",
       "      <th>count</th>\n",
       "      <td>3648.000000</td>\n",
       "      <td>3648.000000</td>\n",
       "    </tr>\n",
       "    <tr>\n",
       "      <th>mean</th>\n",
       "      <td>629.011398</td>\n",
       "      <td>78.409704</td>\n",
       "    </tr>\n",
       "    <tr>\n",
       "      <th>std</th>\n",
       "      <td>130.633650</td>\n",
       "      <td>235.009554</td>\n",
       "    </tr>\n",
       "    <tr>\n",
       "      <th>min</th>\n",
       "      <td>397.569000</td>\n",
       "      <td>-41.850000</td>\n",
       "    </tr>\n",
       "    <tr>\n",
       "      <th>25%</th>\n",
       "      <td>516.537000</td>\n",
       "      <td>-4.850000</td>\n",
       "    </tr>\n",
       "    <tr>\n",
       "      <th>50%</th>\n",
       "      <td>631.789500</td>\n",
       "      <td>5.490000</td>\n",
       "    </tr>\n",
       "    <tr>\n",
       "      <th>75%</th>\n",
       "      <td>742.876750</td>\n",
       "      <td>39.150000</td>\n",
       "    </tr>\n",
       "    <tr>\n",
       "      <th>max</th>\n",
       "      <td>849.351000</td>\n",
       "      <td>2559.490000</td>\n",
       "    </tr>\n",
       "  </tbody>\n",
       "</table>\n",
       "</div>"
      ],
      "text/plain": [
       "        Wavelength    Intensity\n",
       "count  3648.000000  3648.000000\n",
       "mean    629.011398    78.409704\n",
       "std     130.633650   235.009554\n",
       "min     397.569000   -41.850000\n",
       "25%     516.537000    -4.850000\n",
       "50%     631.789500     5.490000\n",
       "75%     742.876750    39.150000\n",
       "max     849.351000  2559.490000"
      ]
     },
     "execution_count": 6,
     "metadata": {},
     "output_type": "execute_result"
    }
   ],
   "source": [
    "spectra.describe()"
   ]
  },
  {
   "cell_type": "code",
   "execution_count": 7,
   "id": "6354be4f",
   "metadata": {},
   "outputs": [],
   "source": [
    "normAmp=spectra[\"Intensity\"]/spectra[\"Intensity\"].max()"
   ]
  },
  {
   "cell_type": "code",
   "execution_count": 8,
   "id": "8dc1e931",
   "metadata": {},
   "outputs": [
    {
     "data": {
      "text/plain": [
       "count    3648.000000\n",
       "mean        0.030635\n",
       "std         0.091819\n",
       "min        -0.016351\n",
       "25%        -0.001895\n",
       "50%         0.002145\n",
       "75%         0.015296\n",
       "max         1.000000\n",
       "Name: Intensity, dtype: float64"
      ]
     },
     "execution_count": 8,
     "metadata": {},
     "output_type": "execute_result"
    }
   ],
   "source": [
    "normAmp.describe()"
   ]
  },
  {
   "cell_type": "code",
   "execution_count": 9,
   "id": "8dd7952b",
   "metadata": {},
   "outputs": [
    {
     "data": {
      "image/png": "[encoded data removed]",
      "text/plain": [
       "<Figure size 432x288 with 1 Axes>"
      ]
     },
     "metadata": {
      "needs_background": "light"
     },
     "output_type": "display_data"
    }
   ],
   "source": [
    "plt.plot(spectra['Wavelength'], normAmp)\n",
    "plt.xlabel('Wavelength')\n",
    "plt.ylabel('Intensity')\n",
    "plt.title('Resonance')\n",
    "plt.xlim(550,650)\n",
    "plt.show()"
   ]
  },
  {
   "cell_type": "code",
   "execution_count": null,
   "id": "61865991",
   "metadata": {},
   "outputs": [],
   "source": []
  },
  {
   "cell_type": "code",
   "execution_count": 12,
   "id": "28b34806",
   "metadata": {},
   "outputs": [
    {
     "data": {
      "image/png": "[encoded data removed]",
      "text/plain": [
       "<Figure size 432x288 with 1 Axes>"
      ]
     },
     "metadata": {
      "needs_background": "light"
     },
     "output_type": "display_data"
    }
   ],
   "source": [
    "#y = df[\"Intensity\"]\n",
    "#x = df[\"Wavelength\"]\n",
    "peaks, _ = find_peaks(normAmp, height=0.3)\n",
    "#encuentra los picos en el eje nombrado como intensidad a partir de un humbral.\n",
    "plt.plot(spectra[\"Wavelength\"], normAmp)\n",
    "plt.plot(spectra[\"Wavelength\"][peaks], normAmp[peaks], \"x\")\n",
    "#Estas dos secuencias de plt.plots gráfican respectivamente el espectro y la id de los picos\n",
    "plt.xlim(550,650)\n",
    "#plt.plot(np.zeros_like(df[\"Intensity\"]), \"--\", color=\"gray\")\n",
    "plt.show()\n"
   ]
  },
  {
   "cell_type": "code",
   "execution_count": 13,
   "id": "b4b141f0",
   "metadata": {},
   "outputs": [
    {
     "data": {
      "text/plain": [
       "(array([1568, 1570, 1574, 1576, 1582, 1589, 1595, 1602, 1608, 1610, 1612,\n",
       "        1614, 1616, 1618, 1622, 1627, 1630, 1632, 1635, 1638, 1641, 1644,\n",
       "        1651, 1655, 1667]),\n",
       " {'peak_heights': array([0.30259544, 0.31327335, 0.32173988, 0.3484366 , 0.39480131,\n",
       "         0.48739788, 0.50484667, 0.61815049, 1.        , 0.77365022,\n",
       "         0.72272992, 0.70827391, 0.72846153, 0.6751931 , 0.74526175,\n",
       "         0.75984669, 0.71947536, 0.85231433, 0.66659764, 0.50289315,\n",
       "         0.5592872 , 0.42254121, 0.42801105, 0.31314442, 0.33502377])})"
      ]
     },
     "execution_count": 13,
     "metadata": {},
     "output_type": "execute_result"
    }
   ],
   "source": [
    "peaks, _"
   ]
  },
  {
   "cell_type": "code",
   "execution_count": 14,
   "id": "5782cf9a",
   "metadata": {},
   "outputs": [],
   "source": [
    "diff = np.diff(spectra[\"Wavelength\"][peaks])"
   ]
  },
  {
   "cell_type": "code",
   "execution_count": 15,
   "id": "bdf257ab",
   "metadata": {},
   "outputs": [
    {
     "data": {
      "text/plain": [
       "array([0.251, 0.502, 0.251, 0.752, 0.878, 0.752, 0.877, 0.752, 0.25 ,\n",
       "       0.251, 0.25 , 0.251, 0.25 , 0.501, 0.626, 0.376, 0.25 , 0.375,\n",
       "       0.376, 0.375, 0.375, 0.876, 0.5  , 1.5  ])"
      ]
     },
     "execution_count": 15,
     "metadata": {},
     "output_type": "execute_result"
    }
   ],
   "source": [
    "diff"
   ]
  },
  {
   "cell_type": "code",
   "execution_count": 16,
   "id": "675e622e",
   "metadata": {},
   "outputs": [],
   "source": [
    "freq, bin= np.histogram(diff)"
   ]
  },
  {
   "cell_type": "code",
   "execution_count": 17,
   "id": "b38de9e7",
   "metadata": {},
   "outputs": [
    {
     "data": {
      "text/plain": [
       "Text(0.5, 1.0, 'Histogram')"
      ]
     },
     "execution_count": 17,
     "metadata": {},
     "output_type": "execute_result"
    },
    {
     "data": {
      "image/png": "[encoded data removed]",
      "text/plain": [
       "<Figure size 432x288 with 1 Axes>"
      ]
     },
     "metadata": {
      "needs_background": "light"
     },
     "output_type": "display_data"
    }
   ],
   "source": [
    "plt.hist(diff,bins=bin)\n",
    "plt.xlabel('nm')\n",
    "plt.ylabel('counts')\n",
    "plt.title('Histogram')"
   ]
  },
  {
   "cell_type": "code",
   "execution_count": 18,
   "id": "ffc64073",
   "metadata": {},
   "outputs": [
    {
     "name": "stdout",
     "output_type": "stream",
     "text": [
      "Requirement already satisfied: peakutils in /Users/rigoberto/opt/anaconda3/lib/python3.9/site-packages (1.3.4)\r\n",
      "Requirement already satisfied: numpy in /Users/rigoberto/opt/anaconda3/lib/python3.9/site-packages (from peakutils) (1.21.5)\r\n",
      "Requirement already satisfied: scipy in /Users/rigoberto/opt/anaconda3/lib/python3.9/site-packages (from peakutils) (1.7.3)\r\n"
     ]
    }
   ],
   "source": [
    "#Para instalar la librerias de peakutils, el signo ! es por que lo hacemos desde Jupyter\n",
    "#la libreria peakutils contiene el análisis para baseline\n",
    "!pip install peakutils"
   ]
  },
  {
   "cell_type": "code",
   "execution_count": 19,
   "id": "352554fd",
   "metadata": {},
   "outputs": [],
   "source": [
    "import peakutils\n",
    "from scipy import sparse"
   ]
  },
  {
   "cell_type": "code",
   "execution_count": 20,
   "id": "94fd98d3",
   "metadata": {},
   "outputs": [],
   "source": [
    "#Aplicando el baseline con un algoritmo de base  1-lineal a mi gráfica normAmp\n",
    "base = peakutils.baseline (normAmp, 1)"
   ]
  },
  {
   "cell_type": "code",
   "execution_count": 21,
   "id": "c55e715b",
   "metadata": {},
   "outputs": [
    {
     "data": {
      "text/plain": [
       "[<matplotlib.lines.Line2D at 0x7fd6d05e7d90>]"
      ]
     },
     "execution_count": 21,
     "metadata": {},
     "output_type": "execute_result"
    },
    {
     "data": {
      "image/png": "[encoded data removed]",
      "text/plain": [
       "<Figure size 432x288 with 1 Axes>"
      ]
     },
     "metadata": {
      "needs_background": "light"
     },
     "output_type": "display_data"
    }
   ],
   "source": [
    "plt.plot(spectra[\"Wavelength\"], normAmp-base)"
   ]
  },
  {
   "cell_type": "code",
   "execution_count": 22,
   "id": "b6ea1bbd",
   "metadata": {},
   "outputs": [],
   "source": [
    "def baseline_als(y, lam, p, niter=10):\n",
    "  L = len(y)\n",
    "  D = sparse.csc_matrix(np.diff(np.eye(L), 2))\n",
    "  w = np.ones(L)\n",
    "  for i in range(niter):\n",
    "    W = sparse.spdiags(w, 0, L, L)\n",
    "    Z = W + lam * D.dot(D.transpose())\n",
    "    z = spsolve(Z, w*y)\n",
    "    w = p * (y > z) + (1-p) * (y < z)\n",
    "  return z"
   ]
  },
  {
   "cell_type": "code",
   "execution_count": 23,
   "id": "9ab0e9d0",
   "metadata": {},
   "outputs": [
    {
     "ename": "NameError",
     "evalue": "name 'spsolve' is not defined",
     "output_type": "error",
     "traceback": [
      "\u001b[0;31m---------------------------------------------------------------------------\u001b[0m",
      "\u001b[0;31mNameError\u001b[0m                                 Traceback (most recent call last)",
      "Input \u001b[0;32mIn [23]\u001b[0m, in \u001b[0;36m<cell line: 1>\u001b[0;34m()\u001b[0m\n\u001b[0;32m----> 1\u001b[0m base \u001b[38;5;241m=\u001b[39m \u001b[43mbaseline_als\u001b[49m\u001b[43m(\u001b[49m\u001b[43mnormAmp\u001b[49m\u001b[43m,\u001b[49m\u001b[43m \u001b[49m\u001b[38;5;241;43m1e3\u001b[39;49m\u001b[43m,\u001b[49m\u001b[43m \u001b[49m\u001b[38;5;241;43m0.003\u001b[39;49m\u001b[43m,\u001b[49m\u001b[43m \u001b[49m\u001b[38;5;241;43m4\u001b[39;49m\u001b[43m)\u001b[49m\n\u001b[1;32m      2\u001b[0m plt\u001b[38;5;241m.\u001b[39mplot(spectra[\u001b[38;5;124m'\u001b[39m\u001b[38;5;124mWavelength\u001b[39m\u001b[38;5;124m'\u001b[39m], normAmp)\n\u001b[1;32m      3\u001b[0m plt\u001b[38;5;241m.\u001b[39mplot(spectra[\u001b[38;5;124m\"\u001b[39m\u001b[38;5;124mWavelength\u001b[39m\u001b[38;5;124m\"\u001b[39m], base)\n",
      "Input \u001b[0;32mIn [22]\u001b[0m, in \u001b[0;36mbaseline_als\u001b[0;34m(y, lam, p, niter)\u001b[0m\n\u001b[1;32m      6\u001b[0m   W \u001b[38;5;241m=\u001b[39m sparse\u001b[38;5;241m.\u001b[39mspdiags(w, \u001b[38;5;241m0\u001b[39m, L, L)\n\u001b[1;32m      7\u001b[0m   Z \u001b[38;5;241m=\u001b[39m W \u001b[38;5;241m+\u001b[39m lam \u001b[38;5;241m*\u001b[39m D\u001b[38;5;241m.\u001b[39mdot(D\u001b[38;5;241m.\u001b[39mtranspose())\n\u001b[0;32m----> 8\u001b[0m   z \u001b[38;5;241m=\u001b[39m \u001b[43mspsolve\u001b[49m(Z, w\u001b[38;5;241m*\u001b[39my)\n\u001b[1;32m      9\u001b[0m   w \u001b[38;5;241m=\u001b[39m p \u001b[38;5;241m*\u001b[39m (y \u001b[38;5;241m>\u001b[39m z) \u001b[38;5;241m+\u001b[39m (\u001b[38;5;241m1\u001b[39m\u001b[38;5;241m-\u001b[39mp) \u001b[38;5;241m*\u001b[39m (y \u001b[38;5;241m<\u001b[39m z)\n\u001b[1;32m     10\u001b[0m \u001b[38;5;28;01mreturn\u001b[39;00m z\n",
      "\u001b[0;31mNameError\u001b[0m: name 'spsolve' is not defined"
     ]
    }
   ],
   "source": [
    "base = baseline_als(normAmp, 1e3, 0.003, 4)\n",
    "plt.plot(spectra['Wavelength'], normAmp)\n",
    "plt.plot(spectra[\"Wavelength\"], base)\n",
    "#plt.plot(spectra[\"Wavelength\"], normAmp-base)\n",
    "plt.xlim(550,680)"
   ]
  },
  {
   "cell_type": "code",
   "execution_count": 24,
   "id": "be68ef12",
   "metadata": {},
   "outputs": [
    {
     "name": "stdout",
     "output_type": "stream",
     "text": [
      "3.9.12 (main, Apr  5 2022, 01:53:17) \n",
      "[Clang 12.0.0 ]\n"
     ]
    }
   ],
   "source": [
    "import sys\n",
    "print (sys.version)"
   ]
  },
  {
   "cell_type": "code",
   "execution_count": 383,
   "id": "315e5455",
   "metadata": {},
   "outputs": [
    {
     "data": {
      "text/plain": [
       "(580.0, 630.0)"
      ]
     },
     "execution_count": 383,
     "metadata": {},
     "output_type": "execute_result"
    },
    {
     "data": {
      "image/png": "[encoded data removed]",
      "text/plain": [
       "<Figure size 432x288 with 1 Axes>"
      ]
     },
     "metadata": {
      "needs_background": "light"
     },
     "output_type": "display_data"
    }
   ],
   "source": [
    "plt.plot(spectra[\"Wavelength\"], normAmp-base)\n",
    "plt.xlim(580,630)"
   ]
  },
  {
   "cell_type": "code",
   "execution_count": 276,
   "id": "b93d9bc4",
   "metadata": {},
   "outputs": [
    {
     "ename": "SyntaxError",
     "evalue": "'return' outside function (479948305.py, line 1)",
     "output_type": "error",
     "traceback": [
      "\u001b[0;36m  Input \u001b[0;32mIn [276]\u001b[0;36m\u001b[0m\n\u001b[0;31m    return max(spectra[peaks])\u001b[0m\n\u001b[0m    ^\u001b[0m\n\u001b[0;31mSyntaxError\u001b[0m\u001b[0;31m:\u001b[0m 'return' outside function\n"
     ]
    }
   ],
   "source": [
    "return max(spectra[peaks])"
   ]
  },
  {
   "cell_type": "code",
   "execution_count": 179,
   "id": "82d02179",
   "metadata": {},
   "outputs": [
    {
     "data": {
      "text/plain": [
       "1753    0.213084\n",
       "1755    0.229895\n",
       "1757    0.202617\n",
       "1763    0.276119\n",
       "1765    0.285826\n",
       "1770    0.393418\n",
       "1776    0.660002\n",
       "1780    0.312227\n",
       "1784    0.582874\n",
       "1791    0.269951\n",
       "1796    0.249952\n",
       "1805    0.399617\n",
       "1809    0.447156\n",
       "1814    0.261384\n",
       "1816    0.264162\n",
       "1822    0.231123\n",
       "1824    0.218581\n",
       "1828    0.577554\n",
       "1832    0.869544\n",
       "1841    0.649243\n",
       "1843    0.935854\n",
       "1845    0.697718\n",
       "1848    0.678567\n",
       "1850    0.899893\n",
       "1854    0.698508\n",
       "1856    1.000000\n",
       "1861    0.427976\n",
       "1869    0.509431\n",
       "1893    0.532821\n",
       "Name: Intensity, dtype: float64"
      ]
     },
     "execution_count": 179,
     "metadata": {},
     "output_type": "execute_result"
    }
   ],
   "source": [
    "normAmp[peaks]"
   ]
  },
  {
   "cell_type": "code",
   "execution_count": 181,
   "id": "21b3e9ed",
   "metadata": {},
   "outputs": [
    {
     "data": {
      "text/plain": [
       "1753     2429.38\n",
       "1755     2621.05\n",
       "1757     2310.05\n",
       "1763     3148.05\n",
       "1765     3258.72\n",
       "1770     4485.38\n",
       "1776     7524.72\n",
       "1780     3559.72\n",
       "1784     6645.38\n",
       "1791     3077.72\n",
       "1796     2849.72\n",
       "1805     4556.05\n",
       "1809     5098.05\n",
       "1814     2980.05\n",
       "1816     3011.72\n",
       "1822     2635.05\n",
       "1824     2492.05\n",
       "1828     6584.72\n",
       "1832     9913.72\n",
       "1841     7402.05\n",
       "1843    10669.72\n",
       "1845     7954.72\n",
       "1848     7736.38\n",
       "1850    10259.72\n",
       "1854     7963.72\n",
       "1856    11401.05\n",
       "1861     4879.38\n",
       "1869     5808.05\n",
       "1893     6074.72\n",
       "Name: Intensity, dtype: float64"
      ]
     },
     "execution_count": 181,
     "metadata": {},
     "output_type": "execute_result"
    }
   ],
   "source": [
    "spectra['Intensity'][peaks]"
   ]
  },
  {
   "cell_type": "code",
   "execution_count": null,
   "id": "4fed8fd6",
   "metadata": {},
   "outputs": [],
   "source": []
  }
 ],
 "metadata": {
  "kernelspec": {
   "display_name": "Python 3 (ipykernel)",
   "language": "python",
   "name": "python3"
  },
  "language_info": {
   "codemirror_mode": {
    "name": "ipython",
    "version": 3
   },
   "file_extension": ".py",
   "mimetype": "text/x-python",
   "name": "python",
   "nbconvert_exporter": "python",
   "pygments_lexer": "ipython3",
   "version": "3.9.12"
  }
 },
 "nbformat": 4,
 "nbformat_minor": 5
}
